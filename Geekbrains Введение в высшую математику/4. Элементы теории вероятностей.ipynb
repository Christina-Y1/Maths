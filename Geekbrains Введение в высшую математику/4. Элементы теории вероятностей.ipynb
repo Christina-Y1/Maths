{
 "cells": [
  {
   "cell_type": "markdown",
   "metadata": {},
   "source": [
    "1. Напишите код, моделирующий выпадение поля в рулетке (с учетом поля зеро)."
   ]
  },
  {
   "cell_type": "code",
   "execution_count": 1,
   "metadata": {
    "colab": {},
    "colab_type": "code",
    "id": "Fua95t3FpHHS"
   },
   "outputs": [],
   "source": [
    "%matplotlib inline\n",
    "import numpy as np"
   ]
  },
  {
   "cell_type": "code",
   "execution_count": 2,
   "metadata": {
    "colab": {},
    "colab_type": "code",
    "id": "tZpC1e9JpHHZ",
    "outputId": "4b70042c-f957-4597-aa9a-12a90dbfbdfb"
   },
   "outputs": [
    {
     "data": {
      "text/plain": [
       "0.4940475722501835"
      ]
     },
     "execution_count": 2,
     "metadata": {},
     "output_type": "execute_result"
    }
   ],
   "source": [
    "np.random.uniform(0,1)"
   ]
  },
  {
   "cell_type": "code",
   "execution_count": 3,
   "metadata": {
    "colab": {},
    "colab_type": "code",
    "id": "6SIaQxfYpHHe",
    "outputId": "15e98e4a-be29-41b6-fb67-944b7d222fdd"
   },
   "outputs": [
    {
     "name": "stdout",
     "output_type": "stream",
     "text": [
      "\n",
      "Ставка принимается\n",
      "\n",
      "Ставка принимается\n",
      "\n",
      "Ставка принимается\n",
      "\n",
      "Ставка принимается\n",
      "\n",
      "Ставка принимается\n",
      "\n",
      "Ставка принимается\n",
      "\n",
      "Ставка принимается\n",
      "\n",
      "Ставка принимается\n",
      "\n",
      "Ставка принимается\n",
      "\n",
      "Ставка принимается\n"
     ]
    }
   ],
   "source": [
    "for i in range(0, 10):\n",
    "    a = input()\n",
    "    x = np.random.uniform(0, 35)\n",
    "    if x > 0:\n",
    "        print(\"Ставка принимается\")\n",
    "    else:\n",
    "        print(\"Ноль\")"
   ]
  }
 ],
 "metadata": {
  "colab": {
   "name": "Копия 4.1.ipynb",
   "provenance": []
  },
  "kernelspec": {
   "display_name": "Python 3",
   "language": "python",
   "name": "python3"
  },
  "language_info": {
   "codemirror_mode": {
    "name": "ipython",
    "version": 3
   },
   "file_extension": ".py",
   "mimetype": "text/x-python",
   "name": "python",
   "nbconvert_exporter": "python",
   "pygments_lexer": "ipython3",
   "version": "3.7.4"
  }
 },
 "nbformat": 4,
 "nbformat_minor": 1
}
