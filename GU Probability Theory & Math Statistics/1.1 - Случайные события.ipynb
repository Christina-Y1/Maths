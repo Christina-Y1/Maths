{
 "cells": [
  {
   "cell_type": "markdown",
   "metadata": {},
   "source": [
    "1. Брошены две игральные кости. Найти вероятность следующих событий:\\\n",
    "а) Сумма выпавших очков равна семи; "
   ]
  },
  {
   "cell_type": "markdown",
   "metadata": {},
   "source": [
    "$$P(A) = \\dfrac{6}{36} = \\dfrac{1}{6}$$"
   ]
  },
  {
   "cell_type": "markdown",
   "metadata": {},
   "source": [
    "б) Сумма выпавших очков равна восьми, а разность - четырем;"
   ]
  },
  {
   "cell_type": "markdown",
   "metadata": {},
   "source": [
    "$$P(A) = \\dfrac{2}{36} = \\dfrac{1}{18}$$"
   ]
  },
  {
   "cell_type": "markdown",
   "metadata": {},
   "source": [
    "в) Сумма выпавших очков равна восьми, если известно, что их разность равна четырем;"
   ]
  },
  {
   "cell_type": "markdown",
   "metadata": {},
   "source": [
    "$$P(A) = \\dfrac{2}{4} = \\dfrac{1}{2}$$"
   ]
  },
  {
   "cell_type": "markdown",
   "metadata": {},
   "source": [
    "г) Сумма выпавших очков равна пяти, а произведение - четырем."
   ]
  },
  {
   "cell_type": "markdown",
   "metadata": {},
   "source": [
    "$$P(A) = \\dfrac{2}{36} = \\dfrac{1}{18}$$"
   ]
  },
  {
   "cell_type": "markdown",
   "metadata": {},
   "source": [
    "2. Монета брошена два раза. Найти вероятность того, что хотя бы один раз появляется \"орел\"."
   ]
  },
  {
   "cell_type": "markdown",
   "metadata": {},
   "source": [
    "$$P(A) = \\dfrac{3}{4}$$"
   ]
  },
  {
   "cell_type": "markdown",
   "metadata": {},
   "source": [
    "4. В первой урне содержится 10 шаров, из них 8 белых; во второй урне 20 шаров, из них 4 белых. Из каждой урны наудачу извлекли по одному шару, а затем из этих двух шаров наудачу взят один шар. Найти вероятность того, что взят белый шар."
   ]
  },
  {
   "cell_type": "markdown",
   "metadata": {},
   "source": [
    "$$P(B1) = P(B2)$$\n",
    "1-ая урна:\n",
    "\n",
    "$$P(B1) = \\dfrac{8}{10} = \\dfrac{4}{5}$$\n",
    "\n",
    "2-ая урна:\n",
    "\n",
    "$$P(B2) = \\dfrac{4}{20} = \\dfrac{1}{5}$$\n",
    "\n",
    "\n",
    "__Формула полной вероятности__ :\n",
    "$$P(A) = P(A | H_1) \\cdot P(H_1) + P(A | H_2) \\cdot P(H_2) + \\dots + P(A | H_n) \\cdot P(H_n).$$\n",
    "\n",
    "Подставим данные значения в формулу полной вероятности и получим ответ:\n",
    "$$P(A) = \\frac{1}{2} \\cdot \\frac{4}{5}\n",
    "    + \\frac{1}{2} \\cdot \\frac{1}{5}\n",
    "    = \\frac{4}{10} + \\frac{1}{10} = \\frac{5}{10} = \\frac{1}{2}$$"
   ]
  }
 ],
 "metadata": {
  "kernelspec": {
   "display_name": "Python 3",
   "language": "python",
   "name": "python3"
  },
  "language_info": {
   "codemirror_mode": {
    "name": "ipython",
    "version": 3
   },
   "file_extension": ".py",
   "mimetype": "text/x-python",
   "name": "python",
   "nbconvert_exporter": "python",
   "pygments_lexer": "ipython3",
   "version": "3.7.9"
  }
 },
 "nbformat": 4,
 "nbformat_minor": 4
}
